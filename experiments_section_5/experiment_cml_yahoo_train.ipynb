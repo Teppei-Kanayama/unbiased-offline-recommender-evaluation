{
  "nbformat": 4,
  "nbformat_minor": 0,
  "metadata": {
    "colab": {
      "name": "experiment-cml-yahoo-train.ipynb",
      "version": "0.3.2",
      "provenance": [],
      "collapsed_sections": [],
      "include_colab_link": true
    }
  },
  "cells": [
    {
      "cell_type": "markdown",
      "metadata": {
        "id": "view-in-github",
        "colab_type": "text"
      },
      "source": [
        "[View in Colaboratory](https://colab.research.google.com/github/ylongqi/unbiased-offline-recommender-evaluation/blob/master/experiments_section_5/experiment_cml_yahoo_train.ipynb)"
      ]
    },
    {
      "metadata": {
        "id": "_miBK3buZurK",
        "colab_type": "text"
      },
      "cell_type": "markdown",
      "source": [
        "# Install OpenRec and Download Dataset"
      ]
    },
    {
      "metadata": {
        "id": "JTRJt9GPj3wm",
        "colab_type": "code",
        "colab": {
          "base_uri": "https://localhost:8080/",
          "height": 153
        },
        "outputId": "37e362b5-d242-4d66-9a03-1a8b13bd4ba8"
      },
      "cell_type": "code",
      "source": [
        "!pip install openrec\n",
        "\n",
        "!rm -rf *\n",
        "!wget https://s3.amazonaws.com/cornell-tech-sdl-rec-bias/dataset/yahoo/training_arr.npy\n",
        "!wget https://s3.amazonaws.com/cornell-tech-sdl-rec-bias/dataset/yahoo/validation_arr.npy"
      ],
      "execution_count": 0,
      "outputs": [
        {
          "output_type": "stream",
          "text": [
            "Requirement already satisfied: openrec in /usr/local/lib/python2.7/dist-packages (0.2.2)\n",
            "Requirement already satisfied: termcolor>=1.1.0 in /usr/local/lib/python2.7/dist-packages (from openrec) (1.1.0)\n",
            "Requirement already satisfied: tqdm>=4.15.0 in /usr/local/lib/python2.7/dist-packages (from openrec) (4.26.0)\n",
            "Requirement already satisfied: numpy>=1.13.0 in /usr/local/lib/python2.7/dist-packages (from openrec) (1.14.6)\n",
            "\n",
            "Redirecting output to ‘wget-log’.\n",
            "\n",
            "Redirecting output to ‘wget-log.1’.\n"
          ],
          "name": "stdout"
        }
      ]
    },
    {
      "metadata": {
        "id": "zNFnm4dxaF7X",
        "colab_type": "text"
      },
      "cell_type": "markdown",
      "source": [
        "# Import Libraries and Construct Data"
      ]
    },
    {
      "metadata": {
        "id": "nUxhCz5MkDZk",
        "colab_type": "code",
        "colab": {}
      },
      "cell_type": "code",
      "source": [
        "import numpy as np\n",
        "from openrec.legacy import ImplicitModelTrainer\n",
        "from openrec.legacy.utils import ImplicitDataset\n",
        "from openrec.legacy.recommenders import CML\n",
        "from openrec.legacy.utils.evaluators import AUC\n",
        "from openrec.legacy.utils.samplers import PairwiseSampler"
      ],
      "execution_count": 0,
      "outputs": []
    },
    {
      "metadata": {
        "id": "g0C--vI7lUe2",
        "colab_type": "code",
        "colab": {}
      },
      "cell_type": "code",
      "source": [
        "raw_data = dict()\n",
        "raw_data['train_data'] = np.load(\"training_arr.npy\")\n",
        "raw_data['val_data'] = np.load(\"validation_arr.npy\")\n",
        "raw_data['max_user'] = 15401\n",
        "raw_data['max_item'] = 1001\n",
        "batch_size = 8000\n",
        "test_batch_size = 1000\n",
        "display_itr = 1000\n",
        "\n",
        "train_dataset = ImplicitDataset(raw_data['train_data'], raw_data['max_user'], raw_data['max_item'], name='Train')\n",
        "val_dataset = ImplicitDataset(raw_data['val_data'], raw_data['max_user'], raw_data['max_item'], name='Val')"
      ],
      "execution_count": 0,
      "outputs": []
    },
    {
      "metadata": {
        "id": "FvpSSzaRaXZy",
        "colab_type": "text"
      },
      "cell_type": "markdown",
      "source": [
        "# Define Model"
      ]
    },
    {
      "metadata": {
        "id": "2vrFxwG6lrmS",
        "colab_type": "code",
        "colab": {
          "base_uri": "https://localhost:8080/",
          "height": 88
        },
        "outputId": "45b626d7-868c-4d2c-f12a-e4cf039809a6"
      },
      "cell_type": "code",
      "source": [
        "cml_model = CML(batch_size=batch_size, max_user=train_dataset.max_user(), max_item=train_dataset.max_item(), \n",
        "    dim_embed=50, l2_reg=0.001, opt='Adam', sess_config=None)\n",
        "sampler = PairwiseSampler(batch_size=batch_size, dataset=train_dataset, num_process=4)\n",
        "model_trainer = ImplicitModelTrainer(batch_size=batch_size, test_batch_size=test_batch_size,\n",
        "                                     train_dataset=train_dataset, model=cml_model, sampler=sampler,\n",
        "                                     eval_save_prefix=\"./yahoo\",\n",
        "                                     item_serving_size=500)\n",
        "auc_evaluator = AUC()"
      ],
      "execution_count": 0,
      "outputs": [
        {
          "output_type": "stream",
          "text": [
            "WARNING:tensorflow:From /usr/local/lib/python2.7/dist-packages/openrec/legacy/modules/interactions/pairwise_eu_dist.py:71: calling reduce_sum (from tensorflow.python.ops.math_ops) with keep_dims is deprecated and will be removed in a future version.\n",
            "Instructions for updating:\n",
            "keep_dims is deprecated, use keepdims instead\n"
          ],
          "name": "stdout"
        }
      ]
    },
    {
      "metadata": {
        "id": "A5fhLx9yabrd",
        "colab_type": "text"
      },
      "cell_type": "markdown",
      "source": [
        "# Train Model"
      ]
    },
    {
      "metadata": {
        "id": "p-XeiGNdmGGA",
        "colab_type": "code",
        "colab": {}
      },
      "cell_type": "code",
      "source": [
        "model_trainer.train(num_itr=10001, display_itr=display_itr, eval_datasets=[val_dataset],\n",
        "                    evaluators=[auc_evaluator], num_negatives=200)"
      ],
      "execution_count": 0,
      "outputs": []
    },
    {
      "metadata": {
        "id": "aS4DWJB_mWeQ",
        "colab_type": "code",
        "colab": {}
      },
      "cell_type": "code",
      "source": [
        ""
      ],
      "execution_count": 0,
      "outputs": []
    }
  ]
}