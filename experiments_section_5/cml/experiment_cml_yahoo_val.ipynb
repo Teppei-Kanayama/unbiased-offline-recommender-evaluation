{
  "nbformat": 4,
  "nbformat_minor": 0,
  "metadata": {
    "colab": {
      "name": "experiment-cml-yahoo-val.ipynb",
      "version": "0.3.2",
      "provenance": [],
      "collapsed_sections": [],
      "include_colab_link": true
    }
  },
  "cells": [
    {
      "cell_type": "markdown",
      "metadata": {
        "id": "view-in-github",
        "colab_type": "text"
      },
      "source": [
        "[View in Colaboratory](https://colab.research.google.com/github/ylongqi/unbiased-offline-recommender-evaluation/blob/master/experiments_section_5/experiment_cml_yahoo_val.ipynb)"
      ]
    },
    {
      "metadata": {
        "id": "JjogEl9CeKNp",
        "colab_type": "text"
      },
      "cell_type": "markdown",
      "source": [
        "## Install framework and download datasets"
      ]
    },
    {
      "metadata": {
        "id": "CuyiWdXdjvFq",
        "colab_type": "code",
        "colab": {
          "base_uri": "https://localhost:8080/",
          "height": 221
        },
        "outputId": "a08e7081-fab5-46c4-de14-23af9c7a6e2c"
      },
      "cell_type": "code",
      "source": [
        "!pip install openrec"
      ],
      "execution_count": 0,
      "outputs": [
        {
          "output_type": "stream",
          "text": [
            "Collecting openrec\n",
            "\u001b[?25l  Downloading https://files.pythonhosted.org/packages/6d/ef/9ff797867220d00f672f3917600392b4201d08b526f4e48a6039193e28bb/openrec-0.2.2.tar.gz (46kB)\n",
            "\r\u001b[K    22% |███████                         | 10kB 20.6MB/s eta 0:00:01\r\u001b[K    44% |██████████████▏                 | 20kB 3.2MB/s eta 0:00:01\r\u001b[K    66% |█████████████████████▎          | 30kB 3.7MB/s eta 0:00:01\r\u001b[K    88% |████████████████████████████▍   | 40kB 3.2MB/s eta 0:00:01\r\u001b[K    100% |████████████████████████████████| 51kB 3.6MB/s \n",
            "\u001b[?25hRequirement already satisfied: tqdm>=4.15.0 in /usr/local/lib/python2.7/dist-packages (from openrec) (4.26.0)\n",
            "Requirement already satisfied: numpy>=1.13.0 in /usr/local/lib/python2.7/dist-packages (from openrec) (1.14.6)\n",
            "Requirement already satisfied: termcolor>=1.1.0 in /usr/local/lib/python2.7/dist-packages (from openrec) (1.1.0)\n",
            "Building wheels for collected packages: openrec\n",
            "  Running setup.py bdist_wheel for openrec ... \u001b[?25l-\b \bdone\n",
            "\u001b[?25h  Stored in directory: /root/.cache/pip/wheels/06/42/c6/67dbcffd63a7becc08004e97b7b23572f46e21d43f1c50e175\n",
            "Successfully built openrec\n",
            "Installing collected packages: openrec\n",
            "Successfully installed openrec-0.2.2\n"
          ],
          "name": "stdout"
        }
      ]
    },
    {
      "metadata": {
        "id": "JTRJt9GPj3wm",
        "colab_type": "code",
        "colab": {}
      },
      "cell_type": "code",
      "source": [
        "!rm -rf *\n",
        "!wget https://s3.amazonaws.com/cornell-tech-sdl-rec-bias/dataset/yahoo/training_arr.npy\n",
        "!wget https://s3.amazonaws.com/cornell-tech-sdl-rec-bias/dataset/yahoo/validation_arr.npy\n",
        "\n",
        "!wget https://s3.amazonaws.com/cornell-tech-sdl-rec-bias/best-models/cml-yahoo/cml-yahoo.data-00000-of-00001\n",
        "!wget https://s3.amazonaws.com/cornell-tech-sdl-rec-bias/best-models/cml-yahoo/cml-yahoo.meta\n",
        "!wget https://s3.amazonaws.com/cornell-tech-sdl-rec-bias/best-models/cml-yahoo/cml-yahoo.index"
      ],
      "execution_count": 0,
      "outputs": []
    },
    {
      "metadata": {
        "id": "nUxhCz5MkDZk",
        "colab_type": "code",
        "colab": {}
      },
      "cell_type": "code",
      "source": [
        "import numpy as np\n",
        "import pickle\n",
        "import random\n",
        "from __future__ import division\n",
        "\n",
        "from openrec.legacy import ImplicitModelTrainer\n",
        "from openrec.legacy.utils import ImplicitDataset\n",
        "from openrec.legacy.utils.evaluators import ImplicitEvalManager\n",
        "from openrec.legacy.recommenders import CML\n",
        "from openrec.legacy.utils.evaluators import AUC\n",
        "from openrec.legacy.utils.samplers import PairwiseSampler"
      ],
      "execution_count": 0,
      "outputs": []
    },
    {
      "metadata": {
        "id": "6DkV_E4nepKf",
        "colab_type": "text"
      },
      "cell_type": "markdown",
      "source": [
        "## Function Definition"
      ]
    },
    {
      "metadata": {
        "id": "I5uXsdVIep2T",
        "colab_type": "code",
        "colab": {}
      },
      "cell_type": "code",
      "source": [
        "# function that calculates auc, recall and dcg of the evaulation result\n",
        "\n",
        "def calc_metrics(infilename, trainfilename, gamma=0.2, K=10):\n",
        "    infile = open(infilename, 'rb')\n",
        "    P = pickle.load(infile)\n",
        "    infile.close()\n",
        "    NUM_NEGATIVES = P[\"num_negatives\"]\n",
        "    _NUM_POSs = dict()\n",
        "    \n",
        "    for theuser in P[\"users\"]:\n",
        "        _NUM_POSs[theuser] = len(P[\"user_items\"][theuser][NUM_NEGATIVES:])\n",
        "        P[\"user_items\"][theuser] = list(P[\"user_items\"][theuser])[-300:]\n",
        "        P[\"results\"][theuser] = list(P[\"results\"][theuser])[-300:]\n",
        "    \n",
        "    Zui = dict()\n",
        "    Ni = dict()\n",
        "    \n",
        "    # fill in dictionary Ni\n",
        "    trainset = np.load(trainfilename)\n",
        "    for i in trainset['item_id']:\n",
        "        if i in Ni:\n",
        "            Ni[i] += 1\n",
        "        else:\n",
        "            Ni[i] = 1\n",
        "    del trainset\n",
        "    \n",
        "    # count #users with non-zero item frequencies\n",
        "    nonzero_user_count = 0\n",
        "    for theuser in P[\"users\"]:\n",
        "        pos_items = P[\"user_items\"][theuser][0 - _NUM_POSs[theuser]:]\n",
        "        for pos_item in pos_items:\n",
        "            if pos_item in Ni:\n",
        "                nonzero_user_count += 1\n",
        "                break\n",
        "                \n",
        "    # fill in dictionary Zui\n",
        "    for theuser in P[\"users\"]:\n",
        "        all_scores = np.array(P[\"results\"][theuser])\n",
        "        pos_items = P[\"user_items\"][theuser][0 - _NUM_POSs[theuser]:]\n",
        "        pos_scores = P[\"results\"][theuser][0 - _NUM_POSs[theuser]:]\n",
        "        for i, pos_item in enumerate(pos_items):\n",
        "            pos_score = pos_scores[i]\n",
        "            Zui[(theuser, pos_item)] = float(np.sum(all_scores > pos_score))\n",
        "            \n",
        "    # calculate per-user scores\n",
        "    sum_user_auc = 0.0\n",
        "    sum_user_recall = 0.0\n",
        "    for theuser in P[\"users\"]:\n",
        "        numerator_auc = 0.0\n",
        "        numerator_recall = 0.0\n",
        "        denominator = 0.0\n",
        "        for theitem in P[\"user_items\"][theuser][0 - _NUM_POSs[theuser]:]:\n",
        "            if theitem not in Ni:\n",
        "                continue\n",
        "            pui = np.power(Ni[theitem], (gamma + 1) / 2.0)\n",
        "            numerator_auc += (1 - Zui[(theuser, theitem)] / len(P[\"user_items\"][theuser])) / pui\n",
        "            if Zui[(theuser, theitem)] < K:\n",
        "                numerator_recall += 1.0 / pui\n",
        "            denominator += 1 / pui\n",
        "        if denominator > 0:\n",
        "            sum_user_auc += numerator_auc / denominator\n",
        "            sum_user_recall += numerator_recall / denominator\n",
        "    \n",
        "    return {\n",
        "        \"auc\"       : sum_user_auc / nonzero_user_count,\n",
        "        \"recall\"    : sum_user_recall / nonzero_user_count\n",
        "    }\n"
      ],
      "execution_count": 0,
      "outputs": []
    },
    {
      "metadata": {
        "id": "mgEOuLf1gNZQ",
        "colab_type": "text"
      },
      "cell_type": "markdown",
      "source": [
        "## Model Serving"
      ]
    },
    {
      "metadata": {
        "id": "g0C--vI7lUe2",
        "colab_type": "code",
        "colab": {}
      },
      "cell_type": "code",
      "source": [
        "raw_data = dict()\n",
        "raw_data['train_data'] = np.load(\"training_arr.npy\")\n",
        "raw_data['val_data'] = np.load(\"validation_arr.npy\")\n",
        "raw_data['max_user'] = 15401\n",
        "raw_data['max_item'] = 1001\n",
        "batch_size = 8000\n",
        "test_batch_size = 1000\n",
        "display_itr = 1000\n",
        "\n",
        "train_dataset = ImplicitDataset(raw_data['train_data'], raw_data['max_user'], raw_data['max_item'], name='Train')\n",
        "val_dataset = ImplicitDataset(raw_data['val_data'], raw_data['max_user'], raw_data['max_item'], name='Val')"
      ],
      "execution_count": 0,
      "outputs": []
    },
    {
      "metadata": {
        "id": "2vrFxwG6lrmS",
        "colab_type": "code",
        "colab": {
          "base_uri": "https://localhost:8080/",
          "height": 88
        },
        "outputId": "f74be370-c5e1-4d7e-f0ac-8c29b339cb49"
      },
      "cell_type": "code",
      "source": [
        "cml_model = CML(batch_size=batch_size, max_user=train_dataset.max_user(), max_item=train_dataset.max_item(), \n",
        "    dim_embed=50, l2_reg=0.001, opt='Adam', sess_config=None)\n",
        "sampler = PairwiseSampler(batch_size=batch_size, dataset=train_dataset, num_process=4)\n",
        "model_trainer = ImplicitModelTrainer(batch_size=batch_size, test_batch_size=test_batch_size,\n",
        "                                     train_dataset=train_dataset, model=cml_model, sampler=sampler,\n",
        "                                     eval_save_prefix=\"./yahoo\",\n",
        "                                     item_serving_size=500)\n",
        "auc_evaluator = AUC()"
      ],
      "execution_count": 0,
      "outputs": [
        {
          "output_type": "stream",
          "text": [
            "WARNING:tensorflow:From /usr/local/lib/python2.7/dist-packages/openrec/legacy/modules/interactions/pairwise_eu_dist.py:71: calling reduce_sum (from tensorflow.python.ops.math_ops) with keep_dims is deprecated and will be removed in a future version.\n",
            "Instructions for updating:\n",
            "keep_dims is deprecated, use keepdims instead\n"
          ],
          "name": "stdout"
        }
      ]
    },
    {
      "metadata": {
        "id": "p-XeiGNdmGGA",
        "colab_type": "code",
        "colab": {
          "base_uri": "https://localhost:8080/",
          "height": 34
        },
        "outputId": "94b3cfe7-2356-450f-ac5d-c9dc8be01feb"
      },
      "cell_type": "code",
      "source": [
        "cml_model.load(\"cml-yahoo\")"
      ],
      "execution_count": 0,
      "outputs": [
        {
          "output_type": "stream",
          "text": [
            "INFO:tensorflow:Restoring parameters from cml-yahoo\n"
          ],
          "name": "stdout"
        }
      ]
    },
    {
      "metadata": {
        "id": "aS4DWJB_mWeQ",
        "colab_type": "code",
        "colab": {}
      },
      "cell_type": "code",
      "source": [
        "model_trainer._eval_manager = ImplicitEvalManager(evaluators=[auc_evaluator])\n",
        "model_trainer._num_negatives = 300\n",
        "model_trainer._exclude_positives([train_dataset, val_dataset])\n",
        "model_trainer._sample_negatives(seed=10)\n",
        "model_trainer._eval_save_prefix = \"cml-yahoo-val-new\"\n",
        "model_trainer._evaluate_partial(val_dataset)"
      ],
      "execution_count": 0,
      "outputs": []
    },
    {
      "metadata": {
        "id": "YmlTL18kgXl1",
        "colab_type": "text"
      },
      "cell_type": "markdown",
      "source": [
        "## Evalution test set under different gamma values"
      ]
    },
    {
      "metadata": {
        "id": "goP6BmM4KxUr",
        "colab_type": "code",
        "colab": {
          "base_uri": "https://localhost:8080/",
          "height": 153
        },
        "outputId": "b91ce5d2-ea92-47bb-9998-38e6008dc3b1"
      },
      "cell_type": "code",
      "source": [
        "# Evaluation on test set\n",
        "\n",
        "test_eval_file = \"cml-yahoo-val-new_evaluate_partial.pickle\"\n",
        "trainfilename = \"training_arr.npy\"\n",
        "\n",
        "for gamma in [1.5, 2.0, 2.5, 3.0]:\n",
        "      print(test_eval_file +  \" with gamma @\" + str(gamma) + \" :\")\n",
        "      print(calc_metrics(test_eval_file, trainfilename, gamma, 1))"
      ],
      "execution_count": 0,
      "outputs": [
        {
          "output_type": "stream",
          "text": [
            "cml-yahoo-val-new_evaluate_partial.pickle with gamma @1.5 :\n",
            "{'recall': 0.07239385465623455, 'auc': 0.8537802322166608}\n",
            "cml-yahoo-val-new_evaluate_partial.pickle with gamma @2.0 :\n",
            "{'recall': 0.06970855806988434, 'auc': 0.8499550597403158}\n",
            "cml-yahoo-val-new_evaluate_partial.pickle with gamma @2.5 :\n",
            "{'recall': 0.0679062533205266, 'auc': 0.8471228812596456}\n",
            "cml-yahoo-val-new_evaluate_partial.pickle with gamma @3.0 :\n",
            "{'recall': 0.06665414398744902, 'auc': 0.8449859840114543}\n"
          ],
          "name": "stdout"
        }
      ]
    },
    {
      "metadata": {
        "id": "DOCnSeRQYyLb",
        "colab_type": "code",
        "colab": {}
      },
      "cell_type": "code",
      "source": [
        ""
      ],
      "execution_count": 0,
      "outputs": []
    }
  ]
}