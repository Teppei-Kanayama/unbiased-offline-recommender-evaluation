{
  "nbformat": 4,
  "nbformat_minor": 0,
  "metadata": {
    "colab": {
      "name": "experiment-pmf-citeulike-train.ipynb",
      "version": "0.3.2",
      "provenance": [],
      "collapsed_sections": [],
      "include_colab_link": true
    },
    "kernelspec": {
      "name": "python2",
      "display_name": "Python 2"
    }
  },
  "cells": [
    {
      "cell_type": "markdown",
      "metadata": {
        "id": "view-in-github",
        "colab_type": "text"
      },
      "source": [
        "[View in Colaboratory](https://colab.research.google.com/github/ylongqi/unbiased-offline-recommender-evaluation/blob/master/experiments_section_4/experiment_pmf_citeulike_train.ipynb)"
      ]
    },
    {
      "metadata": {
        "id": "9ZH9RxYtXXXB",
        "colab_type": "code",
        "colab": {}
      },
      "cell_type": "code",
      "source": [
        "!pip install openrec"
      ],
      "execution_count": 0,
      "outputs": []
    },
    {
      "metadata": {
        "id": "tO_BgpRNXbs6",
        "colab_type": "code",
        "colab": {}
      },
      "cell_type": "code",
      "source": [
        "!rm -rf *\n",
        "!wget https://s3.amazonaws.com/cornell-tech-sdl-rec-bias/dataset/citeulike/rsrf_user_data_train.npy\n",
        "!wget https://s3.amazonaws.com/cornell-tech-sdl-rec-bias/dataset/citeulike/rsrf_user_data_val.npy\n",
        "!wget https://s3.amazonaws.com/cornell-tech-sdl-rec-bias/dataset/citeulike/rsrf_user_data_test.npy"
      ],
      "execution_count": 0,
      "outputs": []
    },
    {
      "metadata": {
        "id": "x_NjT9tNYI5G",
        "colab_type": "code",
        "colab": {}
      },
      "cell_type": "code",
      "source": [
        "import numpy as np\n",
        "from openrec.legacy import ImplicitModelTrainer\n",
        "from openrec.legacy.utils import ImplicitDataset\n",
        "from openrec.legacy.recommenders import PMF\n",
        "from openrec.legacy.utils.evaluators import AUC, Recall, Precision, NDCG\n",
        "from openrec.legacy.utils.samplers import PointwiseSampler"
      ],
      "execution_count": 0,
      "outputs": []
    },
    {
      "metadata": {
        "id": "3J-Ov6z2YORQ",
        "colab_type": "code",
        "colab": {}
      },
      "cell_type": "code",
      "source": [
        "raw_data = dict()\n",
        "raw_data['train_data'] = np.load(\"rsrf_user_data_train.npy\")\n",
        "raw_data['val_data'] = np.load(\"rsrf_user_data_val.npy\")\n",
        "raw_data['test_data'] = np.load(\"rsrf_user_data_test.npy\")\n",
        "raw_data['max_user'] = 5551\n",
        "raw_data['max_item'] = 16980\n",
        "batch_size = 8000\n",
        "test_batch_size = 1000\n",
        "display_itr = 5000"
      ],
      "execution_count": 0,
      "outputs": []
    },
    {
      "metadata": {
        "id": "7LMDSL8SYT-f",
        "colab_type": "code",
        "colab": {}
      },
      "cell_type": "code",
      "source": [
        "train_dataset = ImplicitDataset(raw_data['train_data'], raw_data['max_user'], raw_data['max_item'], name='Train')\n",
        "val_dataset = ImplicitDataset(raw_data['val_data'], raw_data['max_user'], raw_data['max_item'], name='Val')\n",
        "test_dataset = ImplicitDataset(raw_data['test_data'], raw_data['max_user'], raw_data['max_item'], name='Test')\n",
        "\n",
        "model = PMF(batch_size=batch_size, max_user=train_dataset.max_user(), max_item=train_dataset.max_item(), \n",
        "            dim_embed=50, opt='Adam', sess_config=None, l2_reg=0.0)\n",
        "sampler = PointwiseSampler(batch_size=batch_size, dataset=train_dataset, pos_ratio=0.2, num_process=5)\n",
        "model_trainer = ImplicitModelTrainer(batch_size=batch_size, test_batch_size=test_batch_size, \n",
        "    train_dataset=train_dataset, model=model, sampler=sampler, \n",
        "    eval_save_prefix=\"./pmf-citeulike\")\n",
        "auc_evaluator = AUC()\n",
        "recall_evaluator = Recall(recall_at=[10, 20, 30, 40, 50, 60, 70, 80, 90, 100])\n",
        "dcg_evaluator = NDCG(ndcg_at=[10, 20, 30, 40, 50, 60, 70, 80, 90, 100])\n",
        "\n",
        "model_trainer.train(num_itr=50001, display_itr=display_itr, eval_datasets=[val_dataset],\n",
        "                    evaluators=[auc_evaluator, recall_evaluator, dcg_evaluator], num_negatives=200)\n"
      ],
      "execution_count": 0,
      "outputs": []
    },
    {
      "metadata": {
        "id": "gVYRAwy7U67j",
        "colab_type": "code",
        "colab": {}
      },
      "cell_type": "code",
      "source": [
        ""
      ],
      "execution_count": 0,
      "outputs": []
    }
  ]
}